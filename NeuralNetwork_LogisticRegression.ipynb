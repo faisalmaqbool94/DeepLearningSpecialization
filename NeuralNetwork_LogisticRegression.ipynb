{
 "cells": [
  {
   "cell_type": "code",
   "execution_count": 36,
   "metadata": {},
   "outputs": [],
   "source": [
    "import numpy as np\n",
    "import os\n",
    "import matplotlib.pyplot as plt\n",
    "import scipy\n",
    "import cv2"
   ]
  },
  {
   "cell_type": "code",
   "execution_count": 88,
   "metadata": {},
   "outputs": [],
   "source": [
    "#Setting the directories\n",
    "train_dir = 'forTrain/'\n",
    "test_dir = 'forTest/'\n",
    "\n",
    "# setting up paths for each images in two list test and train\n",
    "train_images = [train_dir + train_img for train_img in os.listdir(train_dir)]\n",
    "test_images =  [test_dir + test_img for test_img in os.listdir(test_dir)]"
   ]
  },
  {
   "cell_type": "code",
   "execution_count": 89,
   "metadata": {},
   "outputs": [
    {
     "data": {
      "text/plain": [
       "'forTrain/cat.0.jpg'"
      ]
     },
     "execution_count": 89,
     "metadata": {},
     "output_type": "execute_result"
    }
   ],
   "source": [
    "train_images[0]"
   ]
  },
  {
   "cell_type": "code",
   "execution_count": 90,
   "metadata": {},
   "outputs": [],
   "source": [
    "# Function to Read image into np arrays, using Cv2 with Cubic interpolation\n",
    "def Read_Image(image_path):\n",
    "    image = cv2.imread(image_path,cv2.IMREAD_COLOR)\n",
    "    return cv2.resize(image,(64,64),interpolation=cv2.INTER_CUBIC)"
   ]
  },
  {
   "cell_type": "code",
   "execution_count": 91,
   "metadata": {},
   "outputs": [],
   "source": [
    "# Function to create sets of images\n",
    "\n",
    "def Create_Data(images):\n",
    "    m = len(images)\n",
    "    X = np.zeros((m,64,64,3),dtype=np.uint8) # 64 * 64 dimension and 3 --> RGB Channels\n",
    "    y = np.zeros((1,m))\n",
    "    \n",
    "    for index, image in enumerate(images):\n",
    "        X[index,:] = Read_Image(image)\n",
    "        \n",
    "        y[0,index] = 1 if 'dog' in image.lower() else 0\n",
    "    \n",
    "    return X,y"
   ]
  },
  {
   "cell_type": "code",
   "execution_count": 92,
   "metadata": {},
   "outputs": [],
   "source": [
    "train_set_x , train_set_y = Create_Data(train_images)\n",
    "test_set_x, test_set_y = Create_Data(test_images)"
   ]
  },
  {
   "cell_type": "code",
   "execution_count": 93,
   "metadata": {},
   "outputs": [
    {
     "data": {
      "text/plain": [
       "412"
      ]
     },
     "execution_count": 93,
     "metadata": {},
     "output_type": "execute_result"
    }
   ],
   "source": [
    "train_set_x.shape[0]"
   ]
  },
  {
   "cell_type": "code",
   "execution_count": 94,
   "metadata": {},
   "outputs": [
    {
     "data": {
      "text/plain": [
       "(1, 412)"
      ]
     },
     "execution_count": 94,
     "metadata": {},
     "output_type": "execute_result"
    }
   ],
   "source": [
    "train_set_y.shape"
   ]
  },
  {
   "cell_type": "code",
   "execution_count": 95,
   "metadata": {},
   "outputs": [
    {
     "data": {
      "text/plain": [
       "150"
      ]
     },
     "execution_count": 95,
     "metadata": {},
     "output_type": "execute_result"
    }
   ],
   "source": [
    "test_set_x.shape[0]"
   ]
  },
  {
   "cell_type": "markdown",
   "metadata": {},
   "source": [
    "### Flattening of np Arrays"
   ]
  },
  {
   "cell_type": "code",
   "execution_count": 96,
   "metadata": {},
   "outputs": [],
   "source": [
    "train_set_x = train_set_x.reshape(train_set_x.shape[0], 3*64*64).T\n",
    "test_set_x = test_set_x.reshape(test_set_x.shape[0], -1).T"
   ]
  },
  {
   "cell_type": "code",
   "execution_count": 97,
   "metadata": {},
   "outputs": [
    {
     "data": {
      "text/plain": [
       "412"
      ]
     },
     "execution_count": 97,
     "metadata": {},
     "output_type": "execute_result"
    }
   ],
   "source": [
    "train_set_x.shape[1]"
   ]
  },
  {
   "cell_type": "code",
   "execution_count": 98,
   "metadata": {},
   "outputs": [
    {
     "data": {
      "text/plain": [
       "(1, 412)"
      ]
     },
     "execution_count": 98,
     "metadata": {},
     "output_type": "execute_result"
    }
   ],
   "source": [
    "train_set_y.shape"
   ]
  },
  {
   "cell_type": "code",
   "execution_count": 99,
   "metadata": {},
   "outputs": [
    {
     "data": {
      "text/plain": [
       "(12288, 150)"
      ]
     },
     "execution_count": 99,
     "metadata": {},
     "output_type": "execute_result"
    }
   ],
   "source": [
    "test_set_x.shape"
   ]
  },
  {
   "cell_type": "markdown",
   "metadata": {},
   "source": [
    "### Normalization of flattened arrays by 255 for RGB channels"
   ]
  },
  {
   "cell_type": "code",
   "execution_count": 100,
   "metadata": {},
   "outputs": [],
   "source": [
    "train_set_x = train_set_x / 255  #Broadcasting concept here\n",
    "test_set_x  = test_set_x / 255 "
   ]
  },
  {
   "cell_type": "markdown",
   "metadata": {},
   "source": [
    "### Activation Function and Propagation Steps"
   ]
  },
  {
   "cell_type": "code",
   "execution_count": 101,
   "metadata": {},
   "outputs": [],
   "source": [
    "def sigmoid(z):\n",
    "    return 1 / (1 + np.exp(-z))"
   ]
  },
  {
   "cell_type": "code",
   "execution_count": 136,
   "metadata": {},
   "outputs": [],
   "source": [
    "def forwardPropagation(w,b,X,y):\n",
    "    m = X.shape[1] #number of training inputs\n",
    "    \n",
    "    z = np.dot(w.T,X) + b \n",
    "    \n",
    "    A = sigmoid(z)\n",
    "    \n",
    "    cost = (- 1 / m) * np.sum(y * np.log(A) + (1 - y) * (np.log(1 - A)))  # compute cost\n",
    "    \n",
    "    dw = (1/m) * (np.dot(X,(A-y).T))\n",
    "    db = (1 / m) * np.sum(A - y)\n",
    "    \n",
    "    grads = {\"dw\": dw,\n",
    "             \"db\": db}\n",
    "    \n",
    "    return grads,cost"
   ]
  },
  {
   "cell_type": "code",
   "execution_count": 137,
   "metadata": {},
   "outputs": [],
   "source": [
    "def optimizeLR(w,b,X,y,num_iterations, learning_rate, print_cost = False):\n",
    "    \n",
    "    costs = []\n",
    "    \n",
    "    for i in range(num_iterations):\n",
    "        \n",
    "        \n",
    "        # Cost and gradient calculation (≈ 1-4 lines of code)\n",
    "        ### START CODE HERE ### \n",
    "        grads, cost = forwardPropagation(w, b, X, y)\n",
    "        ### END CODE HERE ###\n",
    "        \n",
    "        # Retrieve derivatives from grads\n",
    "        dw = grads[\"dw\"]\n",
    "        db = grads[\"db\"]\n",
    "        \n",
    "        # update rule (≈ 2 lines of code)\n",
    "        ### START CODE HERE ###\n",
    "        w = w - learning_rate * dw  # need to broadcast\n",
    "        b = b - learning_rate * db\n",
    "        ### END CODE HERE ###\n",
    "        \n",
    "        # Record the costs\n",
    "        if i % 100 == 0:\n",
    "            costs.append(cost)\n",
    "        \n",
    "        # Print the cost every 100 training examples\n",
    "        if print_cost and i % 100 == 0:\n",
    "            print (\"Cost after iteration %i: %f\" % (i, cost))\n",
    "    \n",
    "    params = {\"w\": w,\n",
    "              \"b\": b}\n",
    "    \n",
    "    grads = {\"dw\": dw,\n",
    "             \"db\": db}\n",
    "    \n",
    "    return params, grads, costs"
   ]
  },
  {
   "cell_type": "code",
   "execution_count": 138,
   "metadata": {},
   "outputs": [],
   "source": [
    "def predict(w,b,X):\n",
    "    \n",
    "    m = X.shape[1]\n",
    "    y_hat = np.zeros((1,m))\n",
    "    \n",
    "    w = w.reshape(X.shape[0],1)\n",
    "    \n",
    "    a = sigmoid(np.dot(w.T,X) + b)\n",
    "    \n",
    "    for y_hati in range(a.shape[1]):\n",
    "        y_hat[0,y_hati] = 1 if a[0,y_hati] > 0.5 else 0\n",
    "    \n",
    "    return y_hat"
   ]
  },
  {
   "cell_type": "code",
   "execution_count": 139,
   "metadata": {},
   "outputs": [],
   "source": [
    "def model(X_train, Y_train, X_test, Y_test, num_iterations=2000, learning_rate=0.5, print_cost=False):\n",
    "    w  = np.zeros(shape=(X_train.shape[0], 1))\n",
    "    \n",
    "    b = 0\n",
    "    \n",
    "    parameters, grads, costs = optimizeLR(w, b, X_train, Y_train, num_iterations, learning_rate, print_cost)\n",
    "    \n",
    "    w = parameters['w']\n",
    "    b = parameters['b']\n",
    "    \n",
    "    y_hat_test = predict(w,b,X_test)\n",
    "    y_hat_train = predict(w,b,X_train)\n",
    "    \n",
    "    print(\"train accuracy: {} %\".format(100 - np.mean(np.abs(y_hat_train - Y_train)) * 100))\n",
    "    print(\"test accuracy: {} %\".format(100 - np.mean(np.abs(y_hat_test - Y_test)) * 100))\n",
    "    \n",
    "    \n",
    "    d = {\"costs\": costs,\n",
    "         \"y_hat_test\": y_hat_test, \n",
    "         \"y_hat_train\" : y_hat_train, \n",
    "         \"w\" : w, \n",
    "         \"b\" : b,\n",
    "         \"learning_rate\" : learning_rate,\n",
    "         \"num_iterations\": num_iterations}\n",
    "    \n",
    "    return d"
   ]
  },
  {
   "cell_type": "code",
   "execution_count": 140,
   "metadata": {},
   "outputs": [
    {
     "name": "stdout",
     "output_type": "stream",
     "text": [
      "Cost after iteration 0: 0.693147\n",
      "Cost after iteration 100: 0.816658\n",
      "Cost after iteration 200: 0.757037\n",
      "Cost after iteration 300: 0.702649\n",
      "Cost after iteration 400: 0.649355\n",
      "Cost after iteration 500: 0.596808\n",
      "Cost after iteration 600: 0.545950\n",
      "Cost after iteration 700: 0.497500\n",
      "Cost after iteration 800: 0.451523\n",
      "Cost after iteration 900: 0.407711\n",
      "Cost after iteration 1000: 0.365783\n",
      "Cost after iteration 1100: 0.326064\n",
      "Cost after iteration 1200: 0.292292\n",
      "Cost after iteration 1300: 0.274997\n",
      "Cost after iteration 1400: 0.265048\n",
      "Cost after iteration 1500: 0.255887\n",
      "Cost after iteration 1600: 0.247337\n",
      "Cost after iteration 1700: 0.239329\n",
      "Cost after iteration 1800: 0.231806\n",
      "Cost after iteration 1900: 0.224724\n",
      "train accuracy: 97.81553398058253 %\n",
      "test accuracy: 65.33333333333333 %\n"
     ]
    }
   ],
   "source": [
    "d = model(train_set_x, train_set_y, test_set_x, test_set_y, num_iterations = 2000, learning_rate = 0.005, print_cost = True)"
   ]
  },
  {
   "cell_type": "code",
   "execution_count": null,
   "metadata": {},
   "outputs": [],
   "source": []
  }
 ],
 "metadata": {
  "kernelspec": {
   "display_name": "Python 3",
   "language": "python",
   "name": "python3"
  },
  "language_info": {
   "codemirror_mode": {
    "name": "ipython",
    "version": 3
   },
   "file_extension": ".py",
   "mimetype": "text/x-python",
   "name": "python",
   "nbconvert_exporter": "python",
   "pygments_lexer": "ipython3",
   "version": "3.7.1"
  }
 },
 "nbformat": 4,
 "nbformat_minor": 2
}
